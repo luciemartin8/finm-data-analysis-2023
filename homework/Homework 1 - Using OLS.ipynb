{
 "cells": [
  {
   "cell_type": "markdown",
   "id": "b748e61a",
   "metadata": {},
   "source": [
    "# Homework 1 - Using OLS\n",
    "## Data Analysis\n",
    "### FINM August Review \n",
    "\n",
    "Mark Hendricks\n",
    "\n",
    "hendricks@uchicago.edu"
   ]
  },
  {
   "cell_type": "markdown",
   "id": "34e77bff",
   "metadata": {},
   "source": [
    "$$\\newcommand{\\spy}{\\text{spy}}$$\n",
    "$$\\newcommand{\\hyg}{\\text{hyg}}$$\n",
    "\n",
    "# Data\n",
    "* This homework uses the file, `/data/multi_asset_etf_data.xlsx`.\n",
    "* Find the data in the Github repo associated with the module, (link on Canvas.)\n",
    "\n",
    "The data file contains...\n",
    "* Return rates, $r_t^i$, for various asset classes, (via ETFs.)\n",
    "* Most notable among these securities is SPY, the return on the S&P 500. Denote this as $r^{\\spy}_t$.\n",
    "* A separate tab gives return rates for a particular portfolio, $r_t^p$."
   ]
  },
  {
   "cell_type": "code",
   "execution_count": 8,
   "id": "d17418cf",
   "metadata": {},
   "outputs": [],
   "source": [
    "import pandas as pd\n",
    "info = pd.read_excel(\"../data/multi_asset_etf_data.xlsx\", sheet_name=\"info\")\n",
    "security_returns = pd.read_excel(\"../data/multi_asset_etf_data.xlsx\", sheet_name=\"security returns\", index_col=\"Date\")\n",
    "portfolio_returns = pd.read_excel(\"../data/multi_asset_etf_data.xlsx\", sheet_name=\"portfolio returns\", index_col=\"Date\")\n"
   ]
  },
  {
   "cell_type": "markdown",
   "id": "70a0b766",
   "metadata": {},
   "source": [
    "# 1. Regression\n",
    "## 1. \n",
    "Estimate the regression of the portfolio return on SPY:\n",
    "\n",
    "$$r^p_t = \\alpha + \\beta r^{\\spy}_t + \\epsilon_t^{p,\\spy}$$\n",
    "\n",
    "Specifically, report your estimates of alpha, beta, and the r-squared."
   ]
  },
  {
   "cell_type": "code",
   "execution_count": 9,
   "id": "dfd492c7",
   "metadata": {},
   "outputs": [],
   "source": [
    "import numpy as np\n",
    "import statsmodels.api as sm\n",
    "from sklearn.linear_model import LinearRegression\n",
    "from matplotlib import pyplot as plt"
   ]
  },
  {
   "cell_type": "code",
   "execution_count": 33,
   "id": "1fee83bf",
   "metadata": {},
   "outputs": [
    {
     "data": {
      "text/html": [
       "<div>\n",
       "<style scoped>\n",
       "    .dataframe tbody tr th:only-of-type {\n",
       "        vertical-align: middle;\n",
       "    }\n",
       "\n",
       "    .dataframe tbody tr th {\n",
       "        vertical-align: top;\n",
       "    }\n",
       "\n",
       "    .dataframe thead th {\n",
       "        text-align: right;\n",
       "    }\n",
       "</style>\n",
       "<table border=\"1\" class=\"dataframe\">\n",
       "  <thead>\n",
       "    <tr style=\"text-align: right;\">\n",
       "      <th></th>\n",
       "      <th>Value</th>\n",
       "    </tr>\n",
       "  </thead>\n",
       "  <tbody>\n",
       "    <tr>\n",
       "      <th>alpha</th>\n",
       "      <td>-0.001336</td>\n",
       "    </tr>\n",
       "    <tr>\n",
       "      <th>beta</th>\n",
       "      <td>0.637509</td>\n",
       "    </tr>\n",
       "    <tr>\n",
       "      <th>r2</th>\n",
       "      <td>0.759422</td>\n",
       "    </tr>\n",
       "  </tbody>\n",
       "</table>\n",
       "</div>"
      ],
      "text/plain": [
       "          Value\n",
       "alpha -0.001336\n",
       "beta   0.637509\n",
       "r2     0.759422"
      ]
     },
     "execution_count": 33,
     "metadata": {},
     "output_type": "execute_result"
    }
   ],
   "source": [
    "\n",
    "x = security_returns[\"SPY\"] \n",
    "\n",
    "y = portfolio_returns[\"portfolio\"]\n",
    "import statsmodels.api as sm\n",
    "model = sm.OLS(y, sm.add_constant(x)).fit()\n",
    "alpha = model.params[0]\n",
    "beta = model.params[1]\n",
    "r2 = model.rsquared\n",
    "Vals = [alpha, beta, r2]\n",
    "Indices = ['alpha', 'beta', 'r2']\n",
    "Res = pd.DataFrame(Vals, index = Indices, columns=[\"Value\"])\n",
    "Res\n",
    "\n",
    "\n"
   ]
  },
  {
   "cell_type": "markdown",
   "id": "fe3a4f3a",
   "metadata": {},
   "source": [
    "## 2. \n",
    "Estimate the regression of the portfolio return on SPY and on HYG, the return on high-yield\n",
    "corporate bonds, denoted as $r^{\\hyg}_t$:\n",
    "\n",
    "$$r^p_t = {\\alpha} + {\\beta}^{\\spy}r^{\\spy}_t + {\\beta}^{\\hyg}r^{\\hyg}_t + {\\epsilon}_t$$\n",
    "\n",
    "Specifically, report your estimates of alpha, the betas, and the r-squared.\n",
    "\n",
    "*Note that the parameters (such as $\\beta^{\\spy}$) in this multivariate model are not the same as used in the univariate model of part 1. "
   ]
  },
  {
   "cell_type": "code",
   "execution_count": 34,
   "id": "7c4a25ca",
   "metadata": {},
   "outputs": [],
   "source": [
    "import numpy as np\n",
    "import statsmodels.api as sm\n",
    "from sklearn.linear_model import LinearRegression\n",
    "from matplotlib import pyplot as plt"
   ]
  },
  {
   "cell_type": "code",
   "execution_count": 50,
   "id": "d5d45850",
   "metadata": {},
   "outputs": [
    {
     "data": {
      "text/html": [
       "<div>\n",
       "<style scoped>\n",
       "    .dataframe tbody tr th:only-of-type {\n",
       "        vertical-align: middle;\n",
       "    }\n",
       "\n",
       "    .dataframe tbody tr th {\n",
       "        vertical-align: top;\n",
       "    }\n",
       "\n",
       "    .dataframe thead th {\n",
       "        text-align: right;\n",
       "    }\n",
       "</style>\n",
       "<table border=\"1\" class=\"dataframe\">\n",
       "  <thead>\n",
       "    <tr style=\"text-align: right;\">\n",
       "      <th></th>\n",
       "      <th>Value</th>\n",
       "    </tr>\n",
       "  </thead>\n",
       "  <tbody>\n",
       "    <tr>\n",
       "      <th>alpha</th>\n",
       "      <td>-0.001396</td>\n",
       "    </tr>\n",
       "    <tr>\n",
       "      <th>beta_spy</th>\n",
       "      <td>0.392238</td>\n",
       "    </tr>\n",
       "    <tr>\n",
       "      <th>beta_hyg</th>\n",
       "      <td>0.525285</td>\n",
       "    </tr>\n",
       "    <tr>\n",
       "      <th>r2</th>\n",
       "      <td>0.836633</td>\n",
       "    </tr>\n",
       "  </tbody>\n",
       "</table>\n",
       "</div>"
      ],
      "text/plain": [
       "             Value\n",
       "alpha    -0.001396\n",
       "beta_spy  0.392238\n",
       "beta_hyg  0.525285\n",
       "r2        0.836633"
      ]
     },
     "execution_count": 50,
     "metadata": {},
     "output_type": "execute_result"
    }
   ],
   "source": [
    "X = security_returns[['SPY','HYG']]\n",
    "y = portfolio_returns[\"portfolio\"]\n",
    "import statsmodels.api as sm\n",
    "model_multi = sm.OLS(y, sm.add_constant(X)).fit()\n",
    "model_multi.summary()\n",
    "alpha = model_multi.params[0]\n",
    "beta_spy = model_multi.params[1]\n",
    "beta_hyg = model_multi.params[2]\n",
    "r2 = model_multi.rsquared\n",
    "Vals = [alpha, beta_spy, beta_hyg, r2]\n",
    "Indices = ['alpha', 'beta_spy', 'beta_hyg', 'r2']\n",
    "Res = pd.DataFrame(Vals, index = Indices, columns=[\"Value\"])\n",
    "Res"
   ]
  },
  {
   "cell_type": "markdown",
   "id": "cd6f4bdc",
   "metadata": {},
   "source": [
    "How do you access the individual r-squareds of spy and hyg?"
   ]
  },
  {
   "cell_type": "markdown",
   "id": "00a6cfd8",
   "metadata": {},
   "source": [
    "## 3. \n",
    "Calculate the series of fitted regression values, sometimes referred to as $\\hat{y}$ in standard textbooks:\n",
    "\n",
    "$$\\hat{r}^p_t = \\hat{\\alpha} + \\hat{\\beta}^{\\spy}r^{\\spy}_t + \\hat{\\beta}^{\\hyg}r^{\\hyg}_t$$\n",
    "\n",
    "Your statistical package will output these fitted values for you, or you can construct them using the estimated parameters.\n",
    "\n",
    "How does this compare to the r-squared of the regression in problem 2?"
   ]
  },
  {
   "cell_type": "markdown",
   "id": "956ce401",
   "metadata": {},
   "source": [
    "Since correlation is the square root of r-square we can calculate the correlation."
   ]
  },
  {
   "cell_type": "code",
   "execution_count": 54,
   "id": "efb9d2f6",
   "metadata": {},
   "outputs": [
    {
     "name": "stdout",
     "output_type": "stream",
     "text": [
      "Correlation between portfolio and fitted values: 91.47%.\n",
      "Square of this correlation is 83.66% which equals the R-squared.\n"
     ]
    }
   ],
   "source": [
    "corr_portfolio = portfolio_returns.corrwith(model.fittedvalues)[0]\n",
    "corr_portfolio_multi = portfolio_returns.corrwith(model_multi.fittedvalues)[0]\n",
    "print(f'Correlation between portfolio and fitted values: {corr_portfolio_multi:.2%}.')\n",
    "#formats it as a decimal with two decimal places\n",
    "print(f'Square of this correlation is {corr_portfolio_multi**2:.2%} which equals the R-squared.')\n",
    "#** is what you do for squared"
   ]
  },
  {
   "cell_type": "markdown",
   "id": "1f207fa9",
   "metadata": {},
   "source": [
    "This high correlation value indicates a strong linear relationship between the actual portfolio returns and the fitted values predicted by the regression model. The model's predictions closely follow the actual returns.\n",
    "An R-squared value of 83.66% means that approximately 83.66% of the variation in the portfolio returns can be explained by the returns on SPY and HYG. This indicates that the model has a good fit and the independent variables (SPY and HYG) are good predictors of the portfolio returns."
   ]
  },
  {
   "cell_type": "markdown",
   "id": "07bac39c",
   "metadata": {},
   "source": [
    "## 4. \n",
    "How do the SPY betas differ across the univariate and multivariate models? How does this relate to the\n",
    "correlation between $r^{\\spy}$ and $r^{\\hyg}$?"
   ]
  },
  {
   "cell_type": "code",
   "execution_count": 61,
   "id": "75bc5079",
   "metadata": {},
   "outputs": [
    {
     "name": "stdout",
     "output_type": "stream",
     "text": [
      "Correlation between SPY and HYG is 77.0%\n"
     ]
    }
   ],
   "source": [
    "beta_spy_Uni = model.params[1]\n",
    "beta_spy_Uni\n",
    "beta_spy_Multi = model_multi.params[1]\n",
    "beta_spy_Multi\n",
    "corr_spy_hyg = security_returns['SPY'].corr(security_returns['HYG'])\n",
    "print(f'Correlation between SPY and HYG is {corr_spy_hyg:.1%}')"
   ]
  },
  {
   "cell_type": "markdown",
   "id": "7794f966",
   "metadata": {},
   "source": [
    "## 5. \n",
    "Without doing any calculation, would you expect the sample residual of the univariate regression or multivariate regression to have higher correlation to $r^{\\hyg}$?"
   ]
  },
  {
   "cell_type": "markdown",
   "id": "a3194357",
   "metadata": {},
   "source": [
    "Since the second regression includes HYG as a regression. Since sample residuals are always uncorrelated (in-sample) to the regressors we would expect to have a correlation of zero in the multivariate model. In the first regression HYG is not a regressor so a portion of the variation in residuals could be attributed to HYG. \n"
   ]
  },
  {
   "cell_type": "markdown",
   "id": "839a03f8",
   "metadata": {},
   "source": []
  },
  {
   "cell_type": "markdown",
   "id": "af402f23",
   "metadata": {},
   "source": [
    "***"
   ]
  },
  {
   "cell_type": "markdown",
   "id": "82e82f6f",
   "metadata": {},
   "source": [
    "# 2. Decomposing and Replicating"
   ]
  },
  {
   "cell_type": "markdown",
   "id": "9f3f1fb6",
   "metadata": {},
   "source": [
    "## 1.\n",
    "The portfolio return, $r_t^p$, is a combination of the base assets that are provided here. Use linear regression to uncover which weights were used in constructing the portfolio.\n",
    "\n",
    "$$r_t^p = \\alpha +\\left(\\boldsymbol{\\beta}\\right)' \\boldsymbol{r}_t + \\epsilon_t$$\n",
    "\n",
    "where $\\boldsymbol{r}$ denotes the vector of returns for the individual securities.\n",
    "* What does the regression find were the original weights?\n",
    "* How precise is the estimation? Consider the R-squared and t-stats.\n",
    "\n",
    "*Feel free to include an $\\alpha$ in this model, even though you know the portfolio is an exact function of the individual securities. The estimation should find $\\alpha$ of (nearly) zero.*"
   ]
  },
  {
   "cell_type": "code",
   "execution_count": null,
   "id": "09cf6b6b",
   "metadata": {},
   "outputs": [],
   "source": []
  },
  {
   "cell_type": "markdown",
   "id": "99fdda53",
   "metadata": {},
   "source": [
    "## 1.\n",
    "The portfolio return, $r_t^p$, is a combination of the base assets that are provided here. Use linear regression to uncover which weights were used in constructing the portfolio.\n",
    "\n",
    "$$r_t^p = \\alpha +\\left(\\boldsymbol{\\beta}\\right)' \\boldsymbol{r}_t + \\epsilon_t$$\n",
    "\n",
    "where $\\boldsymbol{r}$ denotes the vector of returns for the individual securities.\n",
    "* What does the regression find were the original weights?\n",
    "* How precise is the estimation? Consider the R-squared and t-stats.\n",
    "\n",
    "*Feel free to include an $\\alpha$ in this model, even though you know the portfolio is an exact function of the individual securities. The estimation should find $\\alpha$ of (nearly) zero.*\n",
    "\n",
    "\n",
    "## 2.\n",
    "\n",
    "$$\\newcommand{\\targ}{EEM}$$\n",
    "\n",
    "Suppose that we want to mimic a return, **EEM** using the other returns. Run the following regression–but\n",
    "do so **only using data through the end of 2020.**\n",
    "\n",
    "$$r_t^{\\targ} = \\alpha +\\left(\\boldsymbol{\\beta}^{\\boldsymbol{r}}\\right)' \\boldsymbol{r}_t + \\epsilon_t$$\n",
    "\n",
    "where $\\boldsymbol{r}$ denotes the vector of returns for the other securities, excluding the target, **EEM**.\n",
    "\n",
    "#### (a) \n",
    "Report the r-squared and the estimate of the vector, $\\boldsymbol{\\beta}$.\n",
    "\n",
    "#### (b) \n",
    "Report the t-stats of the explanatory returns. Which have absolute value greater than 2?\n",
    "\n",
    "#### (c) \n",
    "Plot the returns of **EEM** along with the replication values.\n",
    "\n",
    "## 3.\n",
    "Perhaps the replication results in the previous problem are overstated given that they estimated the parameters within a sample and then evaluated how well the result fit in the same sample. This is known as in-sample fit.\n",
    "\n",
    "Using the estimates through **2020**, (the α and βˆ from the previous problem,) calculate the out-of-sample (OOS) values of the replication, using the **2021-2023** returns, denoted $\\boldsymbol{r}_t^{\\text{oos}}$:\n",
    "\n",
    "$$\\hat{r}_t^{\\targ} = \\left(\\widehat{\\boldsymbol{\\beta}}^{\\boldsymbol{r}}\\right)' \\boldsymbol{r}_t^{\\text{oos}}$$\n",
    "\n",
    "#### (a) \n",
    "What is the correlation between $\\hat{r}_t^{\\targ}$ and $\\boldsymbol{r}_t^{\\text{oos}}$?\n",
    "\n",
    "#### (b) \n",
    "How does this compare to the r-squared from the regression above based on in-sample data, (through 2020?)"
   ]
  },
  {
   "cell_type": "markdown",
   "id": "1609cb28",
   "metadata": {},
   "source": [
    "***"
   ]
  }
 ],
 "metadata": {
  "hide_input": false,
  "kernelspec": {
   "display_name": "Python 3 (ipykernel)",
   "language": "python",
   "name": "python3"
  },
  "language_info": {
   "codemirror_mode": {
    "name": "ipython",
    "version": 3
   },
   "file_extension": ".py",
   "mimetype": "text/x-python",
   "name": "python",
   "nbconvert_exporter": "python",
   "pygments_lexer": "ipython3",
   "version": "3.11.7"
  },
  "toc": {
   "base_numbering": 1,
   "nav_menu": {},
   "number_sections": true,
   "sideBar": true,
   "skip_h1_title": false,
   "title_cell": "Table of Contents",
   "title_sidebar": "Contents",
   "toc_cell": false,
   "toc_position": {},
   "toc_section_display": true,
   "toc_window_display": false
  },
  "varInspector": {
   "cols": {
    "lenName": 16,
    "lenType": 16,
    "lenVar": 40
   },
   "kernels_config": {
    "python": {
     "delete_cmd_postfix": "",
     "delete_cmd_prefix": "del ",
     "library": "var_list.py",
     "varRefreshCmd": "print(var_dic_list())"
    },
    "r": {
     "delete_cmd_postfix": ") ",
     "delete_cmd_prefix": "rm(",
     "library": "var_list.r",
     "varRefreshCmd": "cat(var_dic_list()) "
    }
   },
   "types_to_exclude": [
    "module",
    "function",
    "builtin_function_or_method",
    "instance",
    "_Feature"
   ],
   "window_display": false
  }
 },
 "nbformat": 4,
 "nbformat_minor": 5
}
